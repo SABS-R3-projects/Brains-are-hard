{
 "cells": [
  {
   "cell_type": "code",
   "execution_count": 2,
   "metadata": {},
   "outputs": [
    {
     "ename": "ModuleNotFoundError",
     "evalue": "No module named 'pipeline_funcs'",
     "output_type": "error",
     "traceback": [
      "\u001b[0;31m---------------------------------------------------------------------------\u001b[0m",
      "\u001b[0;31mModuleNotFoundError\u001b[0m                       Traceback (most recent call last)",
      "\u001b[0;32m<ipython-input-2-d1b65552dfb8>\u001b[0m in \u001b[0;36m<module>\u001b[0;34m\u001b[0m\n\u001b[1;32m      6\u001b[0m \u001b[0;32mimport\u001b[0m \u001b[0mglob\u001b[0m\u001b[0;34m\u001b[0m\u001b[0;34m\u001b[0m\u001b[0m\n\u001b[1;32m      7\u001b[0m \u001b[0;32mimport\u001b[0m \u001b[0mos\u001b[0m\u001b[0;34m\u001b[0m\u001b[0;34m\u001b[0m\u001b[0m\n\u001b[0;32m----> 8\u001b[0;31m \u001b[0;32mimport\u001b[0m \u001b[0mpipeline_funcs\u001b[0m \u001b[0;32mas\u001b[0m \u001b[0mpf\u001b[0m\u001b[0;34m\u001b[0m\u001b[0;34m\u001b[0m\u001b[0m\n\u001b[0m",
      "\u001b[0;31mModuleNotFoundError\u001b[0m: No module named 'pipeline_funcs'"
     ]
    }
   ],
   "source": [
    "import nibabel as nib\n",
    "import numpy as np\n",
    "import matplotlib.pyplot as plt\n",
    "import matplotlib.animation as animation\n",
    "import pandas as pd\n",
    "import glob\n",
    "import os\n",
    "import pipeline_funcs as pf"
   ]
  },
  {
   "cell_type": "code",
   "execution_count": null,
   "metadata": {},
   "outputs": [],
   "source": [
    "anat_data = \"/home/sabs-r3/Documents/02_Teaching/Brains-are-hard/data/sub-01/ses-retest/anat/sub-01_ses-retest_T1w.nii.gz\"\n",
    "\n",
    "motion = \"/home/sabs-r3/Documents/02_Teaching/Brains-are-hard/data/sub-01/ses-retest/func/sub-01_ses-retest_task-fingerfootlips_bold.nii.gz\""
   ]
  },
  {
   "cell_type": "code",
   "execution_count": null,
   "metadata": {},
   "outputs": [],
   "source": []
  },
  {
   "cell_type": "code",
   "execution_count": null,
   "metadata": {},
   "outputs": [],
   "source": [
    "data = load_imgs(motion)\n",
    "\n",
    "data"
   ]
  },
  {
   "cell_type": "code",
   "execution_count": null,
   "metadata": {
    "scrolled": true
   },
   "outputs": [],
   "source": [
    "### data.shape\n",
    "\n",
    "plt.imshow(data[:,30,:,0], vmax = 2000)"
   ]
  },
  {
   "cell_type": "code",
   "execution_count": null,
   "metadata": {},
   "outputs": [],
   "source": [
    "new_data = show_img_time(data[:,:,:,10:-6]) # 4 + 2\n",
    "labels = get_labels()\n",
    "\n",
    "print(labels.shape)\n",
    "new_data.shape"
   ]
  },
  {
   "cell_type": "code",
   "execution_count": null,
   "metadata": {},
   "outputs": [],
   "source": [
    "training = '/home/sabs-r3/Documents/02_Teaching/Brains-are-hard/dataformated/training/'\n",
    "testing = '/home/sabs-r3/Documents/02_Teaching/Brains-are-hard/dataformated/testing/'"
   ]
  },
  {
   "cell_type": "code",
   "execution_count": null,
   "metadata": {},
   "outputs": [],
   "source": [
    "_data, _labels = get_data(testing)\n",
    "\n",
    "np.savez('testing_data.npz', data=_data, labels=_labels)\n",
    "\n",
    "npzfile = np.load('testing_data.npz')\n",
    "\n",
    "print(npzfile['labels'].shape)\n",
    "print(npzfile['data'].shape)"
   ]
  },
  {
   "cell_type": "code",
   "execution_count": null,
   "metadata": {},
   "outputs": [],
   "source": [
    "file = '/home/sabs-r3/Documents/02_Teaching/Brains-are-hard/dataformated/testing/sub-01_ses-retest_task-fingerfootlips_bold.nii.gz'\n",
    "data = load_imgs(file)\n",
    "new_data = plot_img_time(data[:,:,:,10:-6])"
   ]
  },
  {
   "cell_type": "code",
   "execution_count": null,
   "metadata": {},
   "outputs": [],
   "source": [
    "(4) - 6 - 2 - 4  - 6 - 2 - 4\n",
    "\n",
    "8 - 12\n",
    "9 - 13\n",
    "\n",
    "20 - 24\n",
    "21 - 25\n",
    "\n",
    "\n",
    "\n",
    "\n",
    "movement = plt_data[:,:,i*12+2:i*12+5].mean(2)\n",
    "non_move = plt_data[:,:,i*12+8:i*12+10].mean(2)"
   ]
  },
  {
   "cell_type": "code",
   "execution_count": null,
   "metadata": {},
   "outputs": [],
   "source": [
    "#for i in range(185): \n",
    "#    print(data[:,:,:,i].shape)\n",
    "#    new = data[:,:,:,i].mean(axis=2)\n",
    "#    print(new.shape)\n",
    "\n",
    "\n",
    "new_data = np.array([data[:,:,:,i+1].mean(axis=2) for i in range(183)])\n",
    "\n",
    "print(new_data.shape)\n",
    "\n",
    "def show_img_time(data, time):\n",
    "    \n",
    "    plt.figure(3, figsize=(15,20))\n",
    "    \n",
    "    slize = 24\n",
    "    \n",
    "    plt.subplot(5,5,1)\n",
    "    plt.imshow(data[time-75])\n",
    "    plt.subplot(5,5,2)\n",
    "    plt.imshow(data[time-37])\n",
    "    plt.subplot(5,5,3)\n",
    "    plt.imshow(data[time])\n",
    "    plt.subplot(5,5,4)\n",
    "    plt.imshow(data[time+37])\n",
    "    plt.subplot(5,5,5)\n",
    "    plt.imshow(data[time+75])\n",
    "\n",
    "\n",
    "show_img_time(new_data, int(197.5/2.5))"
   ]
  },
  {
   "cell_type": "code",
   "execution_count": null,
   "metadata": {},
   "outputs": [],
   "source": [
    "ani = animation.FuncAnimation(fig, update, len(a))\n",
    "writer = animation.ImageMagickFileWriter(fps=5)\n",
    "ani.save('anterior_posterior.gif', writer=writer) "
   ]
  },
  {
   "cell_type": "code",
   "execution_count": null,
   "metadata": {},
   "outputs": [],
   "source": []
  },
  {
   "cell_type": "code",
   "execution_count": null,
   "metadata": {},
   "outputs": [],
   "source": []
  },
  {
   "cell_type": "code",
   "execution_count": null,
   "metadata": {},
   "outputs": [],
   "source": [
    "def show_img_time(data):\n",
    "    \n",
    "    #plt.figure(14, figsize=(15,20))\n",
    "    \n",
    "    plt_data = data[:,20:41,:,:].mean(1)\n",
    "    \n",
    "    \n",
    "    split_data = np.array(np.split(plt_data, 14, axis=2))\n",
    "    \n",
    "    result = []\n",
    "    \n",
    "    for num, a_data in enumerate(split_data):\n",
    "        \n",
    "        # This is with a 10 second delay from movement to measurement\n",
    "        movement = a_data[:,:,2:6]#.mean(2)\n",
    "        non_move = a_data[:,:,8:12]#.mean(2)\n",
    "        \n",
    "        a_data = movement-non_move\n",
    "        \n",
    "        result.append(a_data)\n",
    "        \n",
    "        #plt.subplot(5,5,num+1)\n",
    "        #plt.imshow(a_data, vmax = 100)\n",
    "    \n",
    "    return np.array(result)\n",
    "\n",
    "file = '/home/sabs-r3/Documents/02_Teaching/Brains-are-hard/dataformated/testing/sub-01_ses-retest_task-fingerfootlips_bold.nii.gz'\n",
    "data = load_imgs(file)\n",
    "new_data = show_img_time(data[:,:,:,10:-6])\n",
    "new_data"
   ]
  },
  {
   "cell_type": "code",
   "execution_count": null,
   "metadata": {},
   "outputs": [],
   "source": []
  },
  {
   "cell_type": "code",
   "execution_count": null,
   "metadata": {},
   "outputs": [],
   "source": []
  },
  {
   "cell_type": "code",
   "execution_count": null,
   "metadata": {},
   "outputs": [],
   "source": []
  }
 ],
 "metadata": {
  "kernelspec": {
   "display_name": "img_env",
   "language": "python",
   "name": "img_env"
  },
  "language_info": {
   "codemirror_mode": {
    "name": "ipython",
    "version": 3
   },
   "file_extension": ".py",
   "mimetype": "text/x-python",
   "name": "python",
   "nbconvert_exporter": "python",
   "pygments_lexer": "ipython3",
   "version": "3.7.6"
  }
 },
 "nbformat": 4,
 "nbformat_minor": 4
}
